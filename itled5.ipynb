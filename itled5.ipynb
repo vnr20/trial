{
  "nbformat": 4,
  "nbformat_minor": 0,
  "metadata": {
    "colab": {
      "provenance": []
    },
    "kernelspec": {
      "name": "python3",
      "display_name": "Python 3"
    },
    "language_info": {
      "name": "python"
    }
  },
  "cells": [
    {
      "cell_type": "markdown",
      "source": [
        "\n",
        "\n",
        "```\n",
        "# This is formatted as code\n",
        "```\n",
        "\n",
        "# [**Lab 1**](https://colab.research.google.com/drive/1j7HBtpeqNpfUP7FpksgCadLByAU9Nebi?usp=sharing)"
      ],
      "metadata": {
        "id": "bQ9W62Da6pQI"
      }
    },
    {
      "cell_type": "markdown",
      "source": [],
      "metadata": {
        "id": "yfyO0sOv7Ajd"
      }
    }
  ]
}