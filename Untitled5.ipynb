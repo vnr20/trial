{
  "nbformat": 4,
  "nbformat_minor": 0,
  "metadata": {
    "colab": {
      "provenance": []
    },
    "kernelspec": {
      "name": "python3",
      "display_name": "Python 3"
    },
    "language_info": {
      "name": "python"
    }
  },
  "cells": [
    {
      "cell_type": "markdown",
      "source": [
        "# [**Lab 1**](https://drive.google.com/file/d/10Uw_ofFs4Fd5oHNhznFadLkfE2ah2gY4/view?usp=sharing)"
      ],
      "metadata": {
        "id": "bQ9W62Da6pQI"
      }
    },
    {
      "cell_type": "markdown",
      "source": [],
      "metadata": {
        "id": "yfyO0sOv7Ajd"
      }
    }
  ]
}